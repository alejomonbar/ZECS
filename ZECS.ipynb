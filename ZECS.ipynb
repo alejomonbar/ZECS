{
 "cells": [
  {
   "cell_type": "markdown",
   "metadata": {},
   "source": [
    "# ZECS\n",
    "\n",
    "Classical shadow (CS) has opened the door to predicting the characteristics of quantum systems using very few measurements. As quantum systems grow in size, new ways to characterize them are needed to show the quality of their qubits, gates, and how noise affects them. In this work, we explore the capabilities of CS for reconstructing density state operators of sections of quantum devices to make a diagnostic of their qubits quality. We introduce **zero-entropy classical shadow** (ZECS), a methodology that focuses on reconstructing a positive semidefinite and unit trace density state operator using the CS information. This procedure makes a reliable reconstruction of the density state operator removing partially the errors associated with a limited sampling and quantum device noise. It gives a threshold of the maximum coherent information that qubits on a quantum device have.\n",
    "\n",
    "<img src=\"Scheme.png\" alt=\"ZECS\" width=\"800\">"
   ]
  },
  {
   "cell_type": "code",
   "execution_count": 83,
   "metadata": {},
   "outputs": [],
   "source": [
    "import numpy as np\n",
    "import matplotlib.pyplot as plt\n",
    "from qiskit_aer import Aer\n",
    "from qiskit_ibm_runtime.fake_provider import FakeJakartaV2\n",
    "from qiskit import QuantumCircuit, ClassicalRegister, transpile\n",
    "from qiskit.circuit.library import EfficientSU2\n",
    "from qiskit.quantum_info import Statevector\n",
    "from scipy.linalg import sqrtm, logm\n",
    "from collections import defaultdict\n",
    "\n",
    "zero_state = np.array([[1,0],[0,0]], dtype=complex)\n",
    "one_state = np.array([[0,0],[0,1]], dtype=complex)\n",
    "phase_z = np.array([[1,0],[0,-1j]], dtype=complex)\n",
    "hadamard = (1/np.sqrt(2)) * np.array([[1,1],[1,-1]], dtype=complex)\n",
    "identity = np.eye(2, dtype=complex)\n",
    "unitaries = [hadamard, hadamard @ phase_z , identity]"
   ]
  },
  {
   "cell_type": "code",
   "execution_count": 84,
   "metadata": {},
   "outputs": [],
   "source": [
    "backends = {}\n",
    "backends[\"qasm_simulator\"] = Aer.get_backend(\"qasm_simulator\")\n",
    "backends[\"fake_jakarta\"] = FakeJakartaV2() # Fake device"
   ]
  },
  {
   "cell_type": "code",
   "execution_count": 85,
   "metadata": {},
   "outputs": [],
   "source": [
    "def classical_shadows_circuits(circuit, unitary_ids, backend):\n",
    "    \"\"\"\n",
    "    Input:\n",
    "        circuit: Qiskit circuit that one wants to know the density matrix\n",
    "        unitary_ids: Random basis to measure the circuit to recover the Classical Shadows information\n",
    "        backend: Where the circuit will run (Important to transpile in terms of the backend layout) \n",
    "    Return: Circuit with the classical shadows basis.\n",
    "    \"\"\"\n",
    "    num_shadow = len(unitary_ids)\n",
    "    num_qubits = circuit.num_qubits\n",
    "    qcs = []\n",
    "    for shadow_i in range(num_shadow):\n",
    "        qc_g = QuantumCircuit(num_qubits)\n",
    "        for i in range(num_qubits):\n",
    "            if unitary_ids[shadow_i, i] == 0:\n",
    "                qc_g.h(i)\n",
    "            elif unitary_ids[shadow_i, i] == 1:\n",
    "                qc_g.sdg(i)\n",
    "                qc_g.h(i) \n",
    "            elif unitary_ids[shadow_i, i] == 2:\n",
    "                pass\n",
    "            else:\n",
    "                raise ValueError(\"This is not a valid pauli string\")\n",
    "        qc_g = transpile(qc_g, backend, optimization_level=0)\n",
    "        qc = circuit.compose(qc_g, range(num_qubits))\n",
    "        qc.add_register(ClassicalRegister(num_qubits))\n",
    "        qc.measure(range(num_qubits), reversed(range(num_qubits)))\n",
    "        qcs.append(qc)\n",
    "        if not shadow_i % (num_shadow//10):\n",
    "            print(f\" Shadows: {shadow_i}\")\n",
    "    return qcs\n",
    "\n",
    "def snapshot_state(b_list, obs_list, list_qubits):\n",
    "    num_qubits = len(b_list)\n",
    "    if len(list_qubits) == 0:\n",
    "        list_qubits = range(num_qubits)\n",
    "    # computational basis state\n",
    "    rho_snapshot = [1]\n",
    "    for i in reversed(list_qubits):\n",
    "        state = zero_state if b_list[i] == \"0\" else one_state\n",
    "        U = unitaries[obs_list[i]] \n",
    "        local_rho = 3 * (U.conj().T @ state @ U) - identity # Eq. S44 classical shadows paper\n",
    "        rho_snapshot = np.kron(rho_snapshot, local_rho)\n",
    "    return rho_snapshot\n",
    "\n",
    "def shadow_state_reconstruction(shadow, basis, list_qubits):\n",
    "    num_snapshots = len(shadow)\n",
    "    num_qubits = len(list_qubits)\n",
    "    \n",
    "    shadow_rho = np.zeros((2 ** num_qubits, 2 ** num_qubits), dtype=complex)\n",
    "    for i in range(num_snapshots):\n",
    "        shadow_rho += snapshot_state(shadow[i], basis[i], list_qubits)\n",
    "    \n",
    "    return shadow_rho / num_snapshots\n",
    "\n",
    "def zecs(p):\n",
    "    \"\"\"\n",
    "    Find the singular vector corresponding to the smallest singular value \n",
    "    (which can approximate the zero energy coherent state, ZEC).\n",
    "\n",
    "    Parameters:\n",
    "    p (numpy.ndarray): A density matrix or any square matrix.\n",
    "\n",
    "    Returns:\n",
    "    numpy.ndarray: The singular vector corresponding to the smallest singular value.\n",
    "    \"\"\"\n",
    "    \n",
    "    # Step 1: Perform Singular Value Decomposition (SVD) of the input matrix p.\n",
    "    # np.linalg.svd returns three matrices: U and singular values (S).\n",
    "    U, S, _ = np.linalg.svd(p, hermitian=True)\n",
    "    \n",
    "    # Step 2: Extract the right-singular vector (fist column of U) corresponding to the largest singular value.\n",
    "    # This state vector contains the largest overlap with the ideal state vector that described the given circuit.\n",
    "    best_sv = U[:,0].reshape(-1, 1)  # Reshaping into a column vector.\n",
    "\n",
    "    # Step 3: Return the singular vector corresponding to the largest singular value.\n",
    "    return best_sv\n",
    "\n",
    "\n",
    "def fidelity(rho_ideal, rho_real):\n",
    "    \"\"\"\n",
    "    Calculate the fidelity between two quantum states represented by density matrices.\n",
    "    \n",
    "    Fidelity is a measure of how close two quantum states are, where a value of 1 means \n",
    "    the states are identical, and a value of 0 means they are orthogonal (completely different).\n",
    "\n",
    "    Parameters:\n",
    "    rho_ideal (numpy.ndarray): The ideal density matrix (target quantum state).\n",
    "    rho_real (numpy.ndarray): The actual density matrix (quantum state to compare to the ideal).\n",
    "\n",
    "    Returns:\n",
    "    float: The fidelity between rho_ideal and rho_real, a value between 0 and 1.\n",
    "    \"\"\"\n",
    "    \n",
    "    # Step 1: Compute the matrix square root of the real density matrix (rho_real)\n",
    "    # The matrix square root operation finds a matrix such that s_rho_real * s_rho_real = rho_real\n",
    "    s_rho_real = sqrtm(rho_real)\n",
    "\n",
    "    # Step 2: Compute the intermediate matrix: s_rho_real * rho_ideal * s_rho_real\n",
    "    # This is part of the Uhlmann's fidelity formula: sqrt(sqrt(rho_real) * rho_ideal * sqrt(rho_real))\n",
    "    intermediate_matrix = s_rho_real @ rho_ideal @ s_rho_real\n",
    "\n",
    "    # Step 3: Take the matrix square root of the intermediate result to continue the fidelity calculation\n",
    "    # sqrtm computes the square root of the matrix\n",
    "    sqrt_intermediate_matrix = sqrtm(intermediate_matrix)\n",
    "\n",
    "    # Step 4: The fidelity is the squared trace of the resulting matrix.\n",
    "    # .trace() computes the sum of the diagonal elements of the matrix.\n",
    "    # .real ensures we only take the real part of the trace (since small imaginary values might arise from numerical errors).\n",
    "    fidelity_value = (sqrt_intermediate_matrix.trace().real) ** 2\n",
    "\n",
    "    # Step 5: Return the fidelity value (a number between 0 and 1)\n",
    "    return fidelity_value\n",
    "\n",
    "def entropy(p):\n",
    "    \"\"\"\n",
    "    Calculate the von Neumann entropy of a density matrix.\n",
    "\n",
    "    The von Neumann entropy is a measure of the quantum state's uncertainty or mixedness.\n",
    "    It is given by the formula: S(p) = -Tr(p * log(p)), where 'log' is the matrix logarithm,\n",
    "    and Tr() is the trace operation (sum of diagonal elements).\n",
    "\n",
    "    Parameters:\n",
    "    p (numpy.ndarray): The density matrix, a square matrix that represents the quantum state.\n",
    "\n",
    "    Returns:\n",
    "    float: The von Neumann entropy of the quantum state, a non-negative real number.\n",
    "    \"\"\"\n",
    "    \n",
    "    # Step 1: Compute the matrix logarithm of the density matrix p.\n",
    "    # logm(p) computes the logarithm of a matrix, which is needed in the von Neumann entropy formula.\n",
    "    log_p = logm(p)\n",
    "\n",
    "    # Step 2: Compute the product of the density matrix p and its logarithm.\n",
    "    # This gives us p * log(p), which will be used to compute the entropy.\n",
    "    entropy_matrix = p @ log_p\n",
    "\n",
    "    # Step 3: Compute the trace of the product matrix.\n",
    "    # The trace is the sum of the diagonal elements of the matrix.\n",
    "    # .real ensures that we only take the real part of the trace, to avoid numerical artifacts.\n",
    "    entropy_value = (-entropy_matrix).trace().real\n",
    "\n",
    "    # Step 4: Return the von Neumann entropy.\n",
    "    return entropy_value\n",
    "\n",
    "def trace_distance(p1, p2):\n",
    "    \"\"\"\n",
    "    Calculate the trace distance between two density matrices.\n",
    "    \n",
    "    The trace distance is a measure of the distinguishability between two quantum states.\n",
    "    It is defined as D(p1, p2) = 0.5 * Tr(|p1 - p2|), where |A| represents the square root\n",
    "    of the positive semidefinite matrix A^† A.\n",
    "    \n",
    "    Args:\n",
    "        p1 (numpy.ndarray): The first density matrix.\n",
    "        p2 (numpy.ndarray): The second density matrix.\n",
    "    \n",
    "    Returns:\n",
    "        float: The trace distance between p1 and p2.\n",
    "    \"\"\"\n",
    "    \n",
    "    # Step 1: Compute the difference between the two density matrices\n",
    "    R = p1 - p2\n",
    "    \n",
    "    # Step 2: Compute the square root of the matrix R^† R (R conjugate transpose times R)\n",
    "    # This is equivalent to taking the absolute value of the operator.\n",
    "    abs_R = sqrtm(R.conj().T @ R)\n",
    "    \n",
    "    # Step 3: Compute the trace of the absolute value matrix\n",
    "    trace_abs_R = np.trace(abs_R).real  # Take only the real part\n",
    "    \n",
    "    # Step 4: Return half of the trace as per the definition of trace distance\n",
    "    return 0.5 * trace_abs_R"
   ]
  },
  {
   "cell_type": "code",
   "execution_count": 86,
   "metadata": {},
   "outputs": [
    {
     "name": "stdout",
     "output_type": "stream",
     "text": [
      " Shadows: 0\n",
      " Shadows: 1000\n",
      " Shadows: 2000\n",
      " Shadows: 3000\n",
      " Shadows: 4000\n",
      " Shadows: 5000\n",
      " Shadows: 6000\n",
      " Shadows: 7000\n",
      " Shadows: 8000\n",
      " Shadows: 9000\n"
     ]
    }
   ],
   "source": [
    "data = defaultdict(dict)\n",
    "\n",
    "np.random.seed(1)\n",
    "device = \"fake_jakarta\"\n",
    "list_qubits = [[0,1,2],[4,5,6]]\n",
    "num_qubits = 7\n",
    "num_shadows = 10000\n",
    "data[\"num_shadows\"] = num_shadows\n",
    "repetition_SU2_gates = 10\n",
    "\n",
    "qc = QuantumCircuit(num_qubits)\n",
    "params = []\n",
    "data[\"sv_ideal\"] = {} # saving the state vector information of the current circuit\n",
    "for i in list_qubits:\n",
    "    qc_su2 = EfficientSU2(len(i), reps=repetition_SU2_gates, parameter_prefix=f\"θ{i}\")\n",
    "    params_i = np.pi * np.random.rand(qc_su2.num_parameters)\n",
    "    qc_su2 = qc_su2.assign_parameters(params_i)\n",
    "    qc = qc.compose(qc_su2, i)\n",
    "    params.append(params_i)\n",
    "    data[\"sv_ideal\"][tuple(i)] = np.array(Statevector(qc_su2)).reshape(-1,1)\n",
    "qc = transpile(qc, backends[device], optimization_level=0)\n",
    "data[\"depth\"] = qc.depth()\n",
    "data[\"gates\"] = qc.count_ops()    \n",
    "data[\"random_unitaries\"] = np.random.randint(0, 3, size=(num_shadows, num_qubits))\n",
    "qcs = classical_shadows_circuits(qc, data[\"random_unitaries\"],  backends[device])\n",
    "data[\"outcomes\"]= [list(i.keys())[0] for i in backends[device].run(qcs, shots=1).result().get_counts()]\n"
   ]
  },
  {
   "cell_type": "code",
   "execution_count": 87,
   "metadata": {},
   "outputs": [
    {
     "name": "stdout",
     "output_type": "stream",
     "text": [
      "---------- subsystem: (0, 1, 2) -----------\n",
      "Number of shots 100\n",
      "Number of shots 1200\n",
      "Number of shots 2300\n",
      "Number of shots 3400\n",
      "Number of shots 4500\n",
      "Number of shots 5600\n",
      "Number of shots 6700\n",
      "Number of shots 7800\n",
      "Number of shots 8900\n",
      "Number of shots 10000\n",
      "---------- subsystem: (4, 5, 6) -----------\n",
      "Number of shots 100\n",
      "Number of shots 1200\n",
      "Number of shots 2300\n",
      "Number of shots 3400\n",
      "Number of shots 4500\n",
      "Number of shots 5600\n",
      "Number of shots 6700\n",
      "Number of shots 7800\n",
      "Number of shots 8900\n",
      "Number of shots 10000\n"
     ]
    }
   ],
   "source": [
    "num_shadows = data[\"num_shadows\"]\n",
    "split_shadows = np.linspace(100, num_shadows, 10, dtype=int)\n",
    "subsystem_sv_ideal = data[\"sv_ideal\"] # State vector\n",
    "\n",
    "\n",
    "for subsystem in subsystem_sv_ideal.keys():\n",
    "    print(f\"---------- subsystem: {subsystem} -----------\")\n",
    "    rho_ideal = subsystem_sv_ideal[subsystem] @ subsystem_sv_ideal[subsystem].T.conj()\n",
    "    data[subsystem][\"CS\"] = defaultdict(list)\n",
    "    data[subsystem][\"ZECS\"] = defaultdict(list)\n",
    "    for i in split_shadows:\n",
    "        print(f\"Number of shots {i}\")\n",
    "        rho_cs = shadow_state_reconstruction(data[\"outcomes\"][:i], data[\"random_unitaries\"][:i], list_qubits=subsystem)\n",
    "        sv_zecs = zecs(rho_cs) # Zero-Entropy classical shadows state\n",
    "        rho_zecs = sv_zecs @ sv_zecs.T.conj() #density matrix ZECS\n",
    "        for method, rho in {\"CS\":rho_cs, \"ZECS\":rho_zecs}.items():\n",
    "            for prop, func in {\"F\":fidelity, \"D\":trace_distance}.items():\n",
    "                data[subsystem][method][prop].append(func(rho_ideal, rho))\n",
    "            data[subsystem][method][\"rho\"] = rho\n",
    "        data[subsystem][method][\"S\"].append(entropy(rho))"
   ]
  },
  {
   "cell_type": "code",
   "execution_count": 88,
   "metadata": {},
   "outputs": [
    {
     "data": {
      "text/plain": [
       "<matplotlib.legend.Legend at 0x16aa696a0>"
      ]
     },
     "execution_count": 88,
     "metadata": {},
     "output_type": "execute_result"
    },
    {
     "data": {
      "image/png": "[encoded data removed]",
      "text/plain": [
       "<Figure size 640x480 with 1 Axes>"
      ]
     },
     "metadata": {},
     "output_type": "display_data"
    }
   ],
   "source": [
    "colors = plt.get_cmap('Set2')\n",
    "\n",
    "fig, ax = plt.subplots()\n",
    "ax.plot(split_shadows, data[(0,1,2)][\"CS\"][\"F\"], marker=\"o\", label=\"CS\")\n",
    "ax.plot(split_shadows, data[(0,1,2)][\"ZECS\"][\"F\"], marker=\"o\", label=\"ZECS\")\n",
    "ax.set_ylabel(\"Fidelity\")\n",
    "ax.set_xlabel(\"Num. snapshots\")\n",
    "ax.legend()\n",
    "\n"
   ]
  },
  {
   "cell_type": "code",
   "execution_count": 97,
   "metadata": {},
   "outputs": [
    {
     "data": {
      "image/png": "[encoded data removed]",
      "text/plain": [
       "<Figure size 640x480 with 1 Axes>"
      ]
     },
     "metadata": {},
     "output_type": "display_data"
    }
   ],
   "source": [
    "colors = plt.get_cmap('Set2')\n",
    "\n",
    "fig, ax = plt.subplots()\n",
    "ax.plot(split_shadows, data[(0,1,2)][\"CS\"][\"D\"], marker=\"o\", label=\"CS\")\n",
    "ax.plot(split_shadows, data[(0,1,2)][\"ZECS\"][\"D\"], marker=\"o\", label=\"ZECS\")\n",
    "ax.set_ylabel(\"Trace distance (D)\")\n",
    "ax.set_xlabel(\"Num. snapshots\")\n",
    "ax.legend()\n",
    "ax.set_yscale(\"log\")\n"
   ]
  },
  {
   "cell_type": "code",
   "execution_count": 94,
   "metadata": {},
   "outputs": [
    {
     "data": {
      "text/plain": [
       "Text(0.5, 1.0, 'Ideal')"
      ]
     },
     "execution_count": 94,
     "metadata": {},
     "output_type": "execute_result"
    },
    {
     "data": {
      "image/png": "[encoded data removed]",
      "text/plain": [
       "<Figure size 640x480 with 3 Axes>"
      ]
     },
     "metadata": {},
     "output_type": "display_data"
    }
   ],
   "source": [
    "fig, ax = plt.subplots(1,3)\n",
    "system = (0,1,2)\n",
    "p_ideal = data[\"sv_ideal\"][system] @ data[\"sv_ideal\"][system].T.conj()\n",
    "vmin = np.min(p_ideal.real)\n",
    "vmax = np.max(p_ideal.real)\n",
    "ax[0].imshow(data[system][\"CS\"][\"rho\"].real, vmin=vmin, vmax=vmax)\n",
    "ax[0].set_title(\"CS\")\n",
    "ax[1].imshow(data[system][\"ZECS\"][\"rho\"].real, vmin=vmin, vmax=vmax)\n",
    "ax[1].set_title(\"ZECS\")\n",
    "ax[2].imshow(p_ideal.real, vmin=vmin, vmax=vmax)\n",
    "ax[2].set_title(\"Ideal\")\n"
   ]
  },
  {
   "cell_type": "code",
   "execution_count": null,
   "metadata": {},
   "outputs": [],
   "source": []
  }
 ],
 "metadata": {
  "kernelspec": {
   "display_name": "Python 3",
   "language": "python",
   "name": "python3"
  },
  "language_info": {
   "codemirror_mode": {
    "name": "ipython",
    "version": 3
   },
   "file_extension": ".py",
   "mimetype": "text/x-python",
   "name": "python",
   "nbconvert_exporter": "python",
   "pygments_lexer": "ipython3",
   "version": "3.9.19"
  }
 },
 "nbformat": 4,
 "nbformat_minor": 2
}
